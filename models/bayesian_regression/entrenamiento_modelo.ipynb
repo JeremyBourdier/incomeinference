{
 "cells": [
  {
   "cell_type": "code",
   "execution_count": null,
   "metadata": {},
   "outputs": [],
   "source": [
    "# %%\n",
    "import pandas as pd\n",
    "from sklearn.linear_model import BayesianRidge\n",
    "import pickle\n",
    "import os\n",
    "\n",
    "# Cargar los datos de entrenamiento\n",
    "X_train = pd.read_excel('c:\\\\Users\\\\bourd\\\\source\\\\repos\\\\IncomeInference\\\\data\\\\train_test_split\\\\X_train.xlsx')\n",
    "y_train = pd.readexcel('c:\\\\Users\\\\bourd\\\\source\\\\repos\\\\IncomeInference\\\\data\\\\train_test_split\\\\y_train.xlsx')\n",
    "\n",
    "# Verificar si hay valores NaN y eliminarlos si existen\n",
    "X_train = X_train.dropna()\n",
    "y_train = y_train.loc[X_train.index]\n",
    "\n",
    "# Crear el modelo de Bayesian Regression\n",
    "model = BayesianRidge()\n",
    "\n",
    "# Entrenar el modelo con los datos de entrenamiento\n",
    "model.fit(X_train, y_train.values.ravel())\n",
    "\n",
    "# Guardar el modelo entrenado\n",
    "model_path = 'c:\\\\Users\\\\bourd\\\\source\\\\repos\\\\IncomeInference\\\\results\\\\bayesian_regression\\\\bayesian_regression_model.pkl'\n",
    "os.makedirs(os.path.dirname(model_path), exist_ok=True)\n",
    "with open(model_path, 'wb') as f:\n",
    "    pickle.dump(model, f)\n",
    "\n",
    "print(f\"Modelo guardado en {model_path}\")\n"
   ]
  }
 ],
 "metadata": {
  "kernelspec": {
   "display_name": "Python 3",
   "language": "python",
   "name": "python3"
  },
  "language_info": {
   "name": "python",
   "version": "3.12.2"
  }
 },
 "nbformat": 4,
 "nbformat_minor": 2
}
