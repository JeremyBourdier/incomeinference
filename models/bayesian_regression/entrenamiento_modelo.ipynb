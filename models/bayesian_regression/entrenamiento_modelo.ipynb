{
 "cells": [
  {
   "cell_type": "code",
   "execution_count": null,
   "metadata": {},
   "outputs": [],
   "source": [
    "# %%\n",
    "import pandas as pd\n",
    "from sklearn.ensemble import AdaBoostRegressor\n",
    "from sklearn.tree import DecisionTreeRegressor\n",
    "import pickle\n",
    "import os\n",
    "\n",
    "# Cargar los datos de entrenamiento\n",
    "X_train = pd.read_excel('c:\\\\Users\\\\bourd\\\\source\\\\repos\\\\IncomeInference\\\\data\\\\train_test_split\\\\X_train.xlsx')\n",
    "y_train = pd.read_excel('c:\\\\Users\\\\bourd\\\\source\\\\repos\\\\IncomeInference\\\\data\\\\train_test_split\\\\y_train.xlsx')\n",
    "\n",
    "# Verificar si hay valores NaN y eliminarlos si existen\n",
    "X_train = X_train.dropna()\n",
    "y_train = y_train.loc[X_train.index]\n",
    "\n",
    "# Crear el modelo de AdaBoost Regressor\n",
    "base_estimator = DecisionTreeRegressor(max_depth=4)\n",
    "model = AdaBoostRegressor(estimator=base_estimator, n_estimators=100, random_state=42)\n",
    "\n",
    "# Entrenar el modelo con los datos de entrenamiento\n",
    "model.fit(X_train, y_train.values.ravel())\n",
    "\n",
    "# Guardar el modelo entrenado\n",
    "model_path = 'c:\\\\Users\\\\bourd\\\\source\\\\repos\\\\IncomeInference\\\\results\\\\ada_boost_regressor\\\\ada_boost_regressor_model.pkl'\n",
    "os.makedirs(os.path.dirname(model_path), exist_ok=True)\n",
    "with open(model_path, 'wb') as f:\n",
    "    pickle.dump(model, f)\n",
    "\n",
    "print(f\"Modelo guardado en {model_path}\")\n"
   ]
  }
 ],
 "metadata": {
  "language_info": {
   "name": "python"
  }
 },
 "nbformat": 4,
 "nbformat_minor": 2
}
