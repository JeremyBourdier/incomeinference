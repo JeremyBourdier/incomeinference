{
 "cells": [
  {
   "cell_type": "code",
   "execution_count": null,
   "metadata": {},
   "outputs": [],
   "source": [
    "# %%\n",
    "import pandas as pd\n",
    "from sklearn.metrics import mean_squared_error, mean_absolute_error, r2_score\n",
    "import pickle\n",
    "import os\n",
    "import matplotlib.pyplot as plt\n",
    "\n",
    "# Cargar los datos de prueba\n",
    "X_test = pd.read_excel('c:\\\\Users\\\\bourd\\\\source\\\\repos\\\\IncomeInference\\\\data\\\\train_test_split\\\\X_test.xlsx')\n",
    "y_test = pd.read_excel('c:\\\\Users\\\\bourd\\\\source\\\\repos\\\\IncomeInference\\\\data\\\\train_test_split\\\\y_test.xlsx')\n",
    "\n",
    "# Cargar el modelo entrenado\n",
    "model_path = 'c:\\\\Users\\\\bourd\\\\source\\\\repos\\\\IncomeInference\\\\results\\\\neural_network_mlp_regression\\\\neural_network_mlp_regression_model.pkl'\n",
    "with open(model_path, 'rb') as f:\n",
    "    model = pickle.load(f)\n",
    "\n",
    "# Realizar predicciones con los datos de prueba\n",
    "predicciones = model.predict(X_test)\n",
    "\n",
    "# Calcular métricas de rendimiento\n",
    "mse = mean_squared_error(y_test, predicciones)\n",
    "mae = mean_absolute_error(y_test, predicciones)\n",
    "r2 = r2_score(y_test, predicciones)\n",
    "\n",
    "print(f\"Mean Squared Error: {mse}\")\n",
    "print(f\"Mean Absolute Error: {mae}\")\n",
    "print(f\"R^2 Score: {r2}\")\n",
    "\n",
    "# Graficar valores reales vs predicciones\n",
    "plt.figure(figsize=(10, 6))\n",
    "plt.scatter(y_test, predicciones, alpha=0.5)\n",
    "plt.plot([y_test.min(), y_test.max()], [y_test.min(), y_test.max()], 'k--', lw=2)\n",
    "plt.xlabel('Valores Reales')\n",
    "plt.ylabel('Predicciones')\n",
    "plt.title('Comparación de Valores Reales y Predicciones')\n",
    "plt.show()\n",
    "\n",
    "# Graficar el error de predicción\n",
    "plt.figure(figsize=(10, 6))\n",
    "plt.hist(y_test - predicciones, bins=50, edgecolor='k')\n",
    "plt.xlabel('Error de Predicción')\n",
    "plt.ylabel('Frecuencia')\n",
    "plt.title('Distribución del Error de Predicción')\n",
    "plt.show()\n"
   ]
  }
 ],
 "metadata": {
  "language_info": {
   "name": "python"
  }
 },
 "nbformat": 4,
 "nbformat_minor": 2
}
