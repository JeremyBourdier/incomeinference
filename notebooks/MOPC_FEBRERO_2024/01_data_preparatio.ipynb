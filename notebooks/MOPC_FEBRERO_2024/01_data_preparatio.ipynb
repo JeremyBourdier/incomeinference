{
 "cells": [
  {
   "cell_type": "code",
   "execution_count": 25,
   "metadata": {},
   "outputs": [
    {
     "name": "stdout",
     "output_type": "stream",
     "text": [
      "Matplotlib version: 3.9.0\n",
      "Pandas version: 2.2.2\n",
      "Numpy version: 2.0.0\n"
     ]
    }
   ],
   "source": [
    "# Importar y configurar librerías\n",
    "import pandas as pd\n",
    "import numpy as np\n",
    "import matplotlib.pyplot as plt\n",
    "import seaborn as sns\n",
    "\n",
    "# Configuración de visualización para gráficos\n",
    "sns.set(style=\"whitegrid\")\n",
    "pd.set_option('display.max_columns', None)\n",
    "\n",
    "# Verificar las versiones de las librerías\n",
    "print(f\"Matplotlib version: {plt.matplotlib.__version__}\")\n",
    "print(f\"Pandas version: {pd.__version__}\")\n",
    "print(f\"Numpy version: {np.__version__}\")\n"
   ]
  },
  {
   "cell_type": "code",
   "execution_count": 36,
   "metadata": {},
   "outputs": [
    {
     "name": "stdout",
     "output_type": "stream",
     "text": [
      "El archivo c:\\mnt\\data\\MOPC-FEBRERO-2024.xlsx no se encontró en la ruta: c:\\mnt\\data\\MOPC-FEBRERO-2024.xlsx\n"
     ]
    }
   ],
   "source": [
    "import os\n",
    "import pandas as pd\n",
    "\n",
    "# Ruta relativa del archivo Excel\n",
    "relative_path = 'c:\\\\Users\\\\bourd\\\\source\\\\repos\\\\IncomeInference\\\\data\\\\raw\\\\MOPC-FEBRERO-2024.xlsx'\n",
    "\n",
    "# Obtener la ruta absoluta del archivo Excel\n",
    "ruta_excel = os.path.abspath(relative_path)\n",
    "\n",
    "# Verificar si el archivo existe\n",
    "if os.path.exists(ruta_excel):\n",
    "    print(f\"El archivo {ruta_excel} existe en la ruta: {ruta_excel}\")\n",
    "    \n",
    "    # Leer el archivo Excel\n",
    "    df = pd.read_excel(ruta_excel)\n",
    "    \n",
    "    # Eliminar la columna sin nombre que no contiene datos\n",
    "    if 'Unnamed: 3' in df.columns:\n",
    "        df = df.drop(columns=['Unnamed: 3'])\n",
    "    \n",
    "    # Renombrar columnas\n",
    "    nuevos_nombres = [\n",
    "        'Empleado', 'Cargo', 'Departamento', 'Tipo_Empleado', 'Ingreso_Bruto', \n",
    "        'Descuento_AFP', 'Descuento_ISR', 'Descuento_SFS', 'Otros_Descuentos', \n",
    "        'Carrera_Adm', 'Tipo_Empleado_Cargo', 'Fecha_Inicio', 'Genero'\n",
    "    ]\n",
    "    \n",
    "    if len(df.columns) == len(nuevos_nombres):\n",
    "        df.columns = nuevos_nombres\n",
    "    else:\n",
    "        print(f\"Error: El DataFrame tiene {len(df.columns)} columnas, pero se proporcionaron {len(nuevos_nombres)} nombres.\")\n",
    "    \n",
    "    # Convertir la columna 'Fecha_Inicio' a tipo datetime\n",
    "    df['Fecha_Inicio'] = pd.to_datetime(df['Fecha_Inicio'], errors='coerce')\n",
    "    \n",
    "    # Crear nueva característica: antigüedad en años\n",
    "    df['Antiguedad_Anios'] = (pd.Timestamp('now') - df['Fecha_Inicio']).dt.days / 365.25\n",
    "    \n",
    "    # Convertir columnas numéricas a tipo float\n",
    "    cols_to_convert = ['Ingreso_Bruto', 'Descuento_AFP', 'Descuento_ISR', 'Descuento_SFS', 'Otros_Descuentos']\n",
    "    df[cols_to_convert] = df[cols_to_convert].apply(pd.to_numeric, errors='coerce')\n",
    "    \n",
    "    # Eliminar filas con valores no numéricos\n",
    "    df = df.dropna(subset=cols_to_convert)\n",
    "    \n",
    "    # Guardar en un archivo Excel limpio para revisión\n",
    "    output_path = os.path.abspath(os.path.join('c:\\\\Users\\\\bourd\\\\source\\\\repos\\\\IncomeInference\\\\data\\\\clean\\\\MOPC\\\\MOPC-FEBRERO-2024_clean.xlsx'))\n",
    "    os.makedirs(os.path.dirname(output_path), exist_ok=True)\n",
    "    df.to_excel(output_path, index=False)\n",
    "    print(f\"Datos guardados en {output_path}\")\n",
    "else:\n",
    "    print(f\"El archivo {ruta_excel} no se encontró en la ruta: {ruta_excel}\")\n"
   ]
  },
  {
   "cell_type": "code",
   "execution_count": null,
   "metadata": {},
   "outputs": [],
   "source": []
  }
 ],
 "metadata": {
  "kernelspec": {
   "display_name": "Python 3",
   "language": "python",
   "name": "python3"
  },
  "language_info": {
   "codemirror_mode": {
    "name": "ipython",
    "version": 3
   },
   "file_extension": ".py",
   "mimetype": "text/x-python",
   "name": "python",
   "nbconvert_exporter": "python",
   "pygments_lexer": "ipython3",
   "version": "3.12.2"
  }
 },
 "nbformat": 4,
 "nbformat_minor": 2
}
