{
 "cells": [
  {
   "cell_type": "code",
   "execution_count": 8,
   "metadata": {},
   "outputs": [
    {
     "name": "stdout",
     "output_type": "stream",
     "text": [
      "Matplotlib version: 3.9.0\n",
      "Pandas version: 2.2.2\n",
      "Numpy version: 2.0.0\n"
     ]
    }
   ],
   "source": [
    "# Importar y configurar librerías\n",
    "import pandas as pd\n",
    "import numpy as np\n",
    "import matplotlib.pyplot as plt\n",
    "import seaborn as sns\n",
    "\n",
    "# Configuración de visualización para gráficos\n",
    "sns.set(style=\"whitegrid\")\n",
    "pd.set_option('display.max_columns', None)\n",
    "\n",
    "# Verificar las versiones de las librerías\n",
    "print(f\"Matplotlib version: {plt.matplotlib.__version__}\")\n",
    "print(f\"Pandas version: {pd.__version__}\")\n",
    "print(f\"Numpy version: {np.__version__}\")\n"
   ]
  },
  {
   "cell_type": "code",
   "execution_count": 2,
   "metadata": {},
   "outputs": [
    {
     "name": "stdout",
     "output_type": "stream",
     "text": [
      "El archivo c:\\Users\\bourd\\source\\repos\\IncomeInference\\data\\raw\\CODEPESCA-NOVIEMBRE-2022.xlsx existe en la ruta: c:\\Users\\bourd\\source\\repos\\IncomeInference\\data\\raw\\CODEPESCA-NOVIEMBRE-2022.xlsx\n",
      "                           Nombre Genero                      Cargo  \\\n",
      "0         CARLOS JOSE THEN CONTIN      M         DIRECTOR EJECUTIVO   \n",
      "1  JUAN FRANCISCO VASQUEZ CAMBERO      M    SUBDIRECTOR (A) GENERAL   \n",
      "2         GREEMBERG MATA MARTINEZ      M    SUBDIRECTOR (A) GENERAL   \n",
      "3         FABIO LUIS ARZENO NUÑEZ      M  ASISTENTE DE LA DIRECCION   \n",
      "4         ROSYVETTE POU CANAHUATE      F  ASISTENTE DE LA DIRECCION   \n",
      "\n",
      "             Departamento             Statuto Fecha de Desingnación  \\\n",
      "0     DIRECCION EJECUTIVA             DECRETO   2020-08-01 00:00:00   \n",
      "1  SUBDIRECCION EJECUTIVA             DECRETO   2020-08-01 00:00:00   \n",
      "2  SUBDIRECCION EJECUTIVA             DECRETO   2020-09-01 00:00:00   \n",
      "3     DIRECCION EJECUTIVA  CARGO DE CONFIANZA   2020-09-01 00:00:00   \n",
      "4     DIRECCION EJECUTIVA  CARGO DE CONFIANZA   2020-08-01 00:00:00   \n",
      "\n",
      "   Ingreso Bruto  Otros Ing.  Total Ingresos     AFP       ISR     SFS  \\\n",
      "0       240000.0           0        240000.0  6888.0  45624.92  4943.8   \n",
      "1       120000.0           0        120000.0  3444.0  16809.87  3648.0   \n",
      "2       120000.0           0        120000.0  3444.0  16809.87  3648.0   \n",
      "3       110000.0           0        110000.0  3157.0  14457.62  3344.0   \n",
      "4        90000.0           0         90000.0  2583.0   9753.12  2736.0   \n",
      "\n",
      "   Otros Desc.  Total Desc.  Ingreso Neto  \n",
      "0         25.0     57481.72     182518.28  \n",
      "1         25.0     23926.87      96073.13  \n",
      "2         25.0     23926.87      96073.13  \n",
      "3         25.0     20983.62      89016.38  \n",
      "4         25.0     15097.12      74902.88  \n",
      "Número de columnas después de eliminar 'Unnamed: 0': 15\n"
     ]
    }
   ],
   "source": [
    "import os\n",
    "import pandas as pd\n",
    "\n",
    "# Ruta relativa del archivo Excel\n",
    "ruta_excel = 'c:\\\\Users\\\\bourd\\\\source\\\\repos\\\\IncomeInference\\\\data\\\\raw\\\\CODEPESCA-NOVIEMBRE-2022.xlsx'\n",
    "\n",
    "# Verificar si el archivo existe\n",
    "if os.path.exists(ruta_excel):\n",
    "    print(f\"El archivo {ruta_excel} existe en la ruta: {ruta_excel}\")\n",
    "    # Leer el archivo Excel, saltando las primeras filas innecesarias\n",
    "    df = pd.read_excel(ruta_excel, skiprows=5)\n",
    "    # Eliminar la columna sin nombre que no contiene datos\n",
    "    df = df.drop(columns=['Unnamed: 0'])\n",
    "    # Mostrar las primeras filas del DataFrame\n",
    "    print(df.head())\n",
    "    # Mostrar la cantidad de columnas\n",
    "    print(\"Número de columnas después de eliminar 'Unnamed: 0':\", len(df.columns))\n",
    "else:\n",
    "    print(f\"El archivo {ruta_excel} no se encontró en la ruta: {ruta_excel}\")\n"
   ]
  },
  {
   "cell_type": "code",
   "execution_count": 3,
   "metadata": {},
   "outputs": [
    {
     "name": "stdout",
     "output_type": "stream",
     "text": [
      "El archivo c:\\Users\\bourd\\source\\repos\\IncomeInference\\data\\raw\\CODEPESCA-NOVIEMBRE-2022.xlsx existe en la ruta: c:\\Users\\bourd\\source\\repos\\IncomeInference\\data\\raw\\CODEPESCA-NOVIEMBRE-2022.xlsx\n",
      "Primeras filas del DataFrame con columnas renombradas:\n",
      "                            Nombre Genero                      Cargo  \\\n",
      "0         CARLOS JOSE THEN CONTIN      M         DIRECTOR EJECUTIVO   \n",
      "1  JUAN FRANCISCO VASQUEZ CAMBERO      M    SUBDIRECTOR (A) GENERAL   \n",
      "2         GREEMBERG MATA MARTINEZ      M    SUBDIRECTOR (A) GENERAL   \n",
      "3         FABIO LUIS ARZENO NUÑEZ      M  ASISTENTE DE LA DIRECCION   \n",
      "4         ROSYVETTE POU CANAHUATE      F  ASISTENTE DE LA DIRECCION   \n",
      "\n",
      "             Departamento             Statuto   Fecha_Desingnacion  \\\n",
      "0     DIRECCION EJECUTIVA             DECRETO  2020-08-01 00:00:00   \n",
      "1  SUBDIRECCION EJECUTIVA             DECRETO  2020-08-01 00:00:00   \n",
      "2  SUBDIRECCION EJECUTIVA             DECRETO  2020-09-01 00:00:00   \n",
      "3     DIRECCION EJECUTIVA  CARGO DE CONFIANZA  2020-09-01 00:00:00   \n",
      "4     DIRECCION EJECUTIVA  CARGO DE CONFIANZA  2020-08-01 00:00:00   \n",
      "\n",
      "   Ingreso_Bruto  Otros_Ing  Total_Ingresos     AFP       ISR     SFS  \\\n",
      "0       240000.0          0        240000.0  6888.0  45624.92  4943.8   \n",
      "1       120000.0          0        120000.0  3444.0  16809.87  3648.0   \n",
      "2       120000.0          0        120000.0  3444.0  16809.87  3648.0   \n",
      "3       110000.0          0        110000.0  3157.0  14457.62  3344.0   \n",
      "4        90000.0          0         90000.0  2583.0   9753.12  2736.0   \n",
      "\n",
      "   Otros_Desc  Total_Desc  Ingreso_Neto  \n",
      "0        25.0    57481.72     182518.28  \n",
      "1        25.0    23926.87      96073.13  \n",
      "2        25.0    23926.87      96073.13  \n",
      "3        25.0    20983.62      89016.38  \n",
      "4        25.0    15097.12      74902.88  \n",
      "Datos guardados en c:\\Users\\bourd\\source\\repos\\IncomeInference\\data\\clean\\CODEPESCA\\CODEPESCA-NOVIEMBRE-2022_clean.xlsx\n"
     ]
    }
   ],
   "source": [
    "import os\n",
    "import pandas as pd\n",
    "\n",
    "# Ruta relativa del archivo Excel\n",
    "ruta_excel = 'c:\\\\Users\\\\bourd\\\\source\\\\repos\\\\IncomeInference\\\\data\\\\raw\\\\CODEPESCA-NOVIEMBRE-2022.xlsx'\n",
    "\n",
    "# Verificar si el archivo existe\n",
    "if os.path.exists(ruta_excel):\n",
    "    print(f\"El archivo {ruta_excel} existe en la ruta: {ruta_excel}\")\n",
    "    # Leer el archivo Excel, saltando las primeras filas innecesarias\n",
    "    df = pd.read_excel(ruta_excel, skiprows=5)\n",
    "    # Eliminar la columna sin nombre que no contiene datos\n",
    "    df = df.drop(columns=['Unnamed: 0'])\n",
    "    # Renombrar columnas basadas en el número de columnas actual\n",
    "    df.columns = [\n",
    "        'Nombre', 'Genero', 'Cargo', 'Departamento', 'Statuto', 'Fecha_Ingreso', \n",
    "        'Ingreso_Bruto', 'Otros_Ing', 'Total_Ingresos', 'AFP', 'ISR', 'SFS', \n",
    "        'Otros_Desc', 'Total_Desc', 'Ingreso_Neto'\n",
    "    ]\n",
    "    # Mostrar las primeras filas del DataFrame con las columnas renombradas\n",
    "    print(\"Primeras filas del DataFrame con columnas renombradas:\\n\", df.head())\n",
    "else:\n",
    "    print(f\"El archivo {ruta_excel} no se encontró en la ruta: {ruta_excel}\")\n",
    "\n",
    "# Convertir la columna 'Fecha_Ingreso' a tipo datetime\n",
    "df['Fecha_Ingreso'] = pd.to_datetime(df['Fecha_Ingreso'], errors='coerce')\n",
    "\n",
    "# Crear nueva característica: antigüedad en años\n",
    "df['Antiguedad_Anios'] = (pd.Timestamp('now') - df['Fecha_Ingreso']).dt.days / 365.25\n",
    "\n",
    "# Convertir columnas numéricas a tipo float\n",
    "cols_to_convert = ['Ingreso_Bruto', 'Otros_Ing', 'Total_Ingresos', 'AFP', 'ISR', 'SFS', 'Otros_Desc', 'Total_Desc', 'Ingreso_Neto']\n",
    "df[cols_to_convert] = df[cols_to_convert].apply(pd.to_numeric, errors='coerce')\n",
    "\n",
    "# Eliminar filas con valores no numéricos\n",
    "df = df.dropna(subset=cols_to_convert)\n",
    "\n",
    "# Guardar en un archivo Excel limpio para revisión\n",
    "output_path = 'c:\\\\Users\\\\bourd\\\\source\\\\repos\\\\IncomeInference\\\\data\\\\clean\\\\CODEPESCA\\\\CODEPESCA-NOVIEMBRE-2022_clean.xlsx'\n",
    "os.makedirs(os.path.dirname(output_path), exist_ok=True)\n",
    "df.to_excel(output_path, index=False)\n",
    "print(f\"Datos guardados en {output_path}\")\n"
   ]
  },
  {
   "cell_type": "code",
   "execution_count": null,
   "metadata": {},
   "outputs": [],
   "source": []
  }
 ],
 "metadata": {
  "kernelspec": {
   "display_name": "Python 3",
   "language": "python",
   "name": "python3"
  },
  "language_info": {
   "codemirror_mode": {
    "name": "ipython",
    "version": 3
   },
   "file_extension": ".py",
   "mimetype": "text/x-python",
   "name": "python",
   "nbconvert_exporter": "python",
   "pygments_lexer": "ipython3",
   "version": "3.12.2"
  }
 },
 "nbformat": 4,
 "nbformat_minor": 2
}
