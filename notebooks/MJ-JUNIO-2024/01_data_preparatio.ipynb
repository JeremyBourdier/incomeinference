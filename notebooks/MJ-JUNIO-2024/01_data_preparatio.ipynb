{
 "cells": [
  {
   "cell_type": "code",
   "execution_count": 8,
   "metadata": {},
   "outputs": [
    {
     "name": "stdout",
     "output_type": "stream",
     "text": [
      "Matplotlib version: 3.9.0\n",
      "Pandas version: 2.2.2\n",
      "Numpy version: 2.0.0\n"
     ]
    }
   ],
   "source": [
    "# Importar y configurar librerías\n",
    "import pandas as pd\n",
    "import numpy as np\n",
    "import matplotlib.pyplot as plt\n",
    "import seaborn as sns\n",
    "\n",
    "# Configuración de visualización para gráficos\n",
    "sns.set(style=\"whitegrid\")\n",
    "pd.set_option('display.max_columns', None)\n",
    "\n",
    "# Verificar las versiones de las librerías\n",
    "print(f\"Matplotlib version: {plt.matplotlib.__version__}\")\n",
    "print(f\"Pandas version: {pd.__version__}\")\n",
    "print(f\"Numpy version: {np.__version__}\")\n"
   ]
  },
  {
   "cell_type": "code",
   "execution_count": 15,
   "metadata": {},
   "outputs": [
    {
     "name": "stdout",
     "output_type": "stream",
     "text": [
      "El archivo c:\\Users\\bourd\\source\\repos\\IncomeInference\\data\\raw\\MJ-JUNIO-2024.xlsx existe en la ruta: c:\\Users\\bourd\\source\\repos\\IncomeInference\\data\\raw\\MJ-JUNIO-2024.xlsx\n",
      "Primeras filas del DataFrame con columnas renombradas:\n",
      "   Numero                       Nombre                   Cargo  \\\n",
      "0      1    RAFAEL JESUS FELIZ GARCIA                MINISTRO   \n",
      "1      2   ANA ELIZABETH DIAZ RAMIREZ    SECRETARIA EJECUTIVA   \n",
      "2      3         CAMILO CAMILO PUJOLS  ASISTENTE DEL DESPACHO   \n",
      "3      4   CRISTY MACOLLE ORTIZ ARIAS    SECRETARIA EJECUTIVA   \n",
      "4      5  WELINGTON ALBERTO MORA PIÑA     CHOFER DEL MINISTRO   \n",
      "\n",
      "                    Area                             Estatus       Sexo  \\\n",
      "0  DESPACHO DEL MINISTRO         EMPLEADO FIJO (POR DECRETO)  MASCULINO   \n",
      "1  DESPACHO DEL MINISTRO  EMPLEADA DE CARRERA ADMINISTRATIVA   FEMENINO   \n",
      "2  DESPACHO DEL MINISTRO                      EMPLEADO FIJO   MASCULINO   \n",
      "3  DESPACHO DEL MINISTRO                       EMPLEADA FIJA   FEMENINO   \n",
      "4  DESPACHO DEL MINISTRO                      EMPLEADO FIJO   MASCULINO   \n",
      "\n",
      "         Fecha_Entrada  Sueldo_Bruto     AFP       ISR      SFS  \\\n",
      "0  2021-12-15 00:00:00      300000.0  8610.0  59959.58  5883.16   \n",
      "1  2018-12-01 00:00:00       70000.0  2009.0   5368.48  2128.00   \n",
      "2  2022-01-01 00:00:00      140000.0  4018.0  21514.37  4256.00   \n",
      "3  2022-01-01 00:00:00       60000.0  1722.0   3486.68  1824.00   \n",
      "4  2022-01-01 00:00:00       50000.0  1435.0   1596.68  1520.00   \n",
      "\n",
      "   Otros_Descuentos  Total_Descuentos       Neto  \n",
      "0             25.00          74477.74  225522.26  \n",
      "1             25.00           9530.48   60469.52  \n",
      "2             25.00          29813.37  110186.63  \n",
      "3             25.00           7057.68   52942.32  \n",
      "4           1740.46           6292.14   43707.86  \n",
      "Datos guardados en c:\\Users\\bourd\\source\\repos\\IncomeInference\\data\\clean\\MJ-JUNIO-2024_clean.xlsx\n"
     ]
    }
   ],
   "source": [
    "import os\n",
    "import pandas as pd\n",
    "\n",
    "# Ruta relativa del archivo Excel\n",
    "relative_path = 'c:\\\\Users\\\\bourd\\\\source\\\\repos\\\\IncomeInference\\\\data\\\\raw\\\\MJ-JUNIO-2024.xlsx'\n",
    "\n",
    "# Obtener la ruta absoluta del archivo Excel\n",
    "current_dir = os.getcwd()\n",
    "ruta_excel = os.path.abspath(os.path.join(current_dir, relative_path))\n",
    "\n",
    "# Verificar si el archivo existe\n",
    "if os.path.exists(ruta_excel):\n",
    "    print(f\"El archivo {ruta_excel} existe en la ruta: {ruta_excel}\")\n",
    "    # Leer el archivo Excel, saltando las primeras filas innecesarias\n",
    "    df = pd.read_excel(ruta_excel, skiprows=5)\n",
    "    # Eliminar la columna sin nombre que no contiene datos\n",
    "    df = df.drop(columns=['Unnamed: 0'])\n",
    "    # Renombrar columnas\n",
    "    df.columns = [\n",
    "        'Numero', 'Nombre', 'Cargo', 'Area', 'Estatus', 'Sexo', 'Fecha_Entrada', \n",
    "        'Sueldo_Bruto', 'AFP', 'ISR', 'SFS', 'Otros_Descuentos', 'Total_Descuentos', \n",
    "        'Neto'\n",
    "    ]\n",
    "    # Mostrar las primeras filas del DataFrame con las columnas renombradas\n",
    "    print(\"Primeras filas del DataFrame con columnas renombradas:\\n\", df.head())\n",
    "else:\n",
    "    print(f\"El archivo {ruta_excel} no se encontró en la ruta: {ruta_excel}\")\n",
    "\n",
    "# Convertir la columna 'Fecha_Entrada' a tipo datetime\n",
    "df['Fecha_Entrada'] = pd.to_datetime(df['Fecha_Entrada'], errors='coerce')\n",
    "\n",
    "# Crear nueva característica: antigüedad en años\n",
    "df['Antiguedad_Anios'] = (pd.Timestamp('now') - df['Fecha_Entrada']).dt.days / 365.25\n",
    "\n",
    "# Convertir columnas numéricas a tipo float\n",
    "cols_to_convert = ['Sueldo_Bruto', 'AFP', 'ISR', 'SFS', 'Otros_Descuentos', 'Total_Descuentos', 'Neto']\n",
    "df[cols_to_convert] = df[cols_to_convert].apply(pd.to_numeric, errors='coerce')\n",
    "\n",
    "# Eliminar filas con valores no numéricos\n",
    "df = df.dropna(subset=cols_to_convert)\n",
    "\n",
    "# Guardar en un archivo Excel limpio para revisión\n",
    "output_path = os.path.abspath(os.path.join(current_dir, 'c:\\\\Users\\\\bourd\\\\source\\\\repos\\\\IncomeInference\\\\data\\\\clean\\\\MJ\\\\MJ-JUNIO-2024_clean.xlsx'))\n",
    "os.makedirs(os.path.dirname(output_path), exist_ok=True)\n",
    "df.to_excel(output_path, index=False)\n",
    "print(f\"Datos guardados en {output_path}\")\n"
   ]
  },
  {
   "cell_type": "code",
   "execution_count": null,
   "metadata": {},
   "outputs": [],
   "source": []
  }
 ],
 "metadata": {
  "kernelspec": {
   "display_name": "Python 3",
   "language": "python",
   "name": "python3"
  },
  "language_info": {
   "codemirror_mode": {
    "name": "ipython",
    "version": 3
   },
   "file_extension": ".py",
   "mimetype": "text/x-python",
   "name": "python",
   "nbconvert_exporter": "python",
   "pygments_lexer": "ipython3",
   "version": "3.12.2"
  }
 },
 "nbformat": 4,
 "nbformat_minor": 2
}
