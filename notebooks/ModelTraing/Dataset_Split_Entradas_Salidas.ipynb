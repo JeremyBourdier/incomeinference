{
 "cells": [
  {
   "cell_type": "code",
   "execution_count": 4,
   "metadata": {},
   "outputs": [
    {
     "name": "stdout",
     "output_type": "stream",
     "text": [
      "Entradas guardadas en c:\\Users\\bourd\\source\\repos\\IncomeInference\\data\\clean\\X_features.xlsx\n",
      "Salidas guardadas en c:\\Users\\bourd\\source\\repos\\IncomeInference\\data\\clean\\y_labels.xlsx\n"
     ]
    }
   ],
   "source": [
    "import pandas as pd\n",
    "\n",
    "# Ruta del archivo unificado de características\n",
    "ruta_unificado = 'c:\\\\Users\\\\bourd\\\\source\\\\repos\\\\IncomeInference\\\\data\\\\clean\\\\unificado_features.xlsx'\n",
    "\n",
    "# Cargar el dataset unificado\n",
    "df_unificado = pd.read_excel(ruta_unificado)\n",
    "\n",
    "# Especificar las columnas que se usarán como características (X) y la etiqueta de salida (y)\n",
    "columnas_entrada = ['Institucion', 'Area', 'Sexo', 'Cargo', 'Tiempo_Trabajo_Anios', 'Sueldo_Promedio_Institucion']\n",
    "columna_salida = 'Sueldo_Bruto'\n",
    "\n",
    "# División en entradas (X) y salidas (y)\n",
    "X = df_unificado[columnas_entrada]\n",
    "y = df_unificado[columna_salida]\n",
    "\n",
    "# Guardar entradas y salidas en archivos separados\n",
    "ruta_x = 'c:\\\\Users\\\\bourd\\\\source\\\\repos\\\\IncomeInference\\\\data\\\\clean\\\\X_features.xlsx'\n",
    "ruta_y = 'c:\\\\Users\\\\bourd\\\\source\\\\repos\\\\IncomeInference\\\\data\\\\clean\\\\y_labels.xlsx'\n",
    "\n",
    "X.to_excel(ruta_x, index=False)\n",
    "y.to_excel(ruta_y, index=False)\n",
    "\n",
    "print(f\"Entradas guardadas en {ruta_x}\")\n",
    "print(f\"Salidas guardadas en {ruta_y}\")"
   ]
  }
 ],
 "metadata": {
  "kernelspec": {
   "display_name": "Python 3",
   "language": "python",
   "name": "python3"
  },
  "language_info": {
   "codemirror_mode": {
    "name": "ipython",
    "version": 3
   },
   "file_extension": ".py",
   "mimetype": "text/x-python",
   "name": "python",
   "nbconvert_exporter": "python",
   "pygments_lexer": "ipython3",
   "version": "3.12.2"
  }
 },
 "nbformat": 4,
 "nbformat_minor": 2
}
