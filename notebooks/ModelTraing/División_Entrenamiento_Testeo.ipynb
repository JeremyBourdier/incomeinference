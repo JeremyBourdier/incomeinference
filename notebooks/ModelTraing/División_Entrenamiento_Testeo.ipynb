{
 "cells": [
  {
   "cell_type": "code",
   "execution_count": null,
   "metadata": {},
   "outputs": [],
   "source": [
    "# Importación de librerías necesarias\n",
    "import pandas as pd\n",
    "from sklearn.model_selection import train_test_split\n",
    "\n",
    "# Cargar el dataset unificado\n",
    "ruta_excel_unificado = 'c:\\\\Users\\\\bourd\\\\source\\\\repos\\\\IncomeInference\\\\data\\\\clean\\\\unificado_features.xlsx'\n",
    "df_unificado = pd.read_excel(ruta_excel_unificado)\n",
    "\n",
    "# Selección de características (X) y etiqueta de salida (y)\n",
    "X = df_unificado.drop(columns=['Sueldo_Bruto'])\n",
    "y = df_unificado['Sueldo_Bruto']\n",
    "\n",
    "# División en conjuntos de entrenamiento y testeo\n",
    "X_train, X_test, y_train, y_test = train_test_split(X, y, test_size=0.2, random_state=42)\n",
    "\n",
    "# Guardar los conjuntos de entrenamiento y testeo en archivos separados\n",
    "X_train.to_excel('c:\\\\Users\\\\bourd\\\\source\\\\repos\\\\IncomeInference\\\\data\\\\train_test_split\\\\TrainAndTest\\\\X_train.xlsx', index=False)\n",
    "X_test.to_excel('c:\\\\Users\\\\bourd\\\\source\\\\repos\\\\IncomeInference\\\\data\\\\train_test_split\\\\TrainAndTest\\\\X_test.xlsx', index=False)\n",
    "y_train.to_excel('c:\\\\Users\\\\bourd\\\\source\\\\repos\\\\IncomeInference\\\\data\\\\train_test_split\\\\TrainAndTest\\\\y_train.xlsx', index=False)\n",
    "y_test.to_excel('c:\\\\Users\\\\bourd\\\\source\\\\repos\\\\IncomeInference\\\\data\\\\train_test_split\\\\TrainAndTest\\\\y_test.xlsx', index=False)\n",
    "\n",
    "print(\"División en conjuntos de entrenamiento y testeo completada y guardada.\")\n"
   ]
  }
 ],
 "metadata": {
  "language_info": {
   "name": "python"
  }
 },
 "nbformat": 4,
 "nbformat_minor": 2
}
