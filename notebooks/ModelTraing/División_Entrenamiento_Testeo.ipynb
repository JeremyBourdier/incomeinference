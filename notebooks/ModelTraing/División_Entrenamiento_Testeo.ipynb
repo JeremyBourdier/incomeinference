{
 "cells": [
  {
   "cell_type": "code",
   "execution_count": 7,
   "metadata": {},
   "outputs": [],
   "source": [
    "import pandas as pd\n",
    "from sklearn.model_selection import train_test_split\n",
    "\n",
    "# Cargar el dataset unificado\n",
    "ruta_excel_unificado = 'c:\\\\Users\\\\bourd\\\\source\\\\repos\\\\IncomeInference\\\\data\\\\clean\\\\unificado_features.xlsx'\n",
    "df_unificado = pd.read_excel(ruta_excel_unificado)\n"
   ]
  },
  {
   "cell_type": "code",
   "execution_count": 8,
   "metadata": {},
   "outputs": [],
   "source": [
    "# Eliminar filas con cualquier valor NaN\n",
    "df_unificado = df_unificado.dropna()\n"
   ]
  },
  {
   "cell_type": "code",
   "execution_count": 3,
   "metadata": {},
   "outputs": [],
   "source": [
    "# Separar en características (X) y etiquetas (y)\n",
    "X = df_unificado.drop(columns=['Sueldo_Bruto'])\n",
    "y = df_unificado['Sueldo_Bruto']\n",
    "\n",
    "# División en conjuntos de entrenamiento y prueba\n",
    "X_train, X_test, y_train, y_test = train_test_split(X, y, test_size=0.2, random_state=42)\n",
    "\n",
    "# Guardar los conjuntos de entrenamiento y prueba\n",
    "X_train.to_excel('c:\\\\Users\\\\bourd\\\\source\\\\repos\\\\IncomeInference\\\\data\\\\train_test_split\\\\X_train.xlsx', index=False)\n",
    "X_test.to_excel('c:\\\\Users\\\\bourd\\\\source\\\\repos\\\\IncomeInference\\\\data\\\\train_test_split\\\\X_test.xlsx', index=False)\n",
    "y_train.to_excel('c:\\\\Users\\\\bourd\\\\source\\\\repos\\\\IncomeInference\\\\data\\\\train_test_split\\\\y_train.xlsx', index=False)\n",
    "y_test.to_excel('c:\\\\Users\\\\bourd\\\\source\\\\repos\\\\IncomeInference\\\\data\\\\train_test_split\\\\y_test.xlsx', index=False)\n"
   ]
  }
 ],
 "metadata": {
  "kernelspec": {
   "display_name": "Python 3",
   "language": "python",
   "name": "python3"
  },
  "language_info": {
   "codemirror_mode": {
    "name": "ipython",
    "version": 3
   },
   "file_extension": ".py",
   "mimetype": "text/x-python",
   "name": "python",
   "nbconvert_exporter": "python",
   "pygments_lexer": "ipython3",
   "version": "3.12.2"
  }
 },
 "nbformat": 4,
 "nbformat_minor": 2
}
