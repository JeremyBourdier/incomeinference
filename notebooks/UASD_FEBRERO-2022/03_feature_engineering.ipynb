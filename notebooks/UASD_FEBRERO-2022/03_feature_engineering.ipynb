{
 "cells": [
  {
   "cell_type": "code",
   "execution_count": 1,
   "metadata": {},
   "outputs": [
    {
     "name": "stderr",
     "output_type": "stream",
     "text": [
      "<>:4: SyntaxWarning: invalid escape sequence '\\s'\n",
      "<>:4: SyntaxWarning: invalid escape sequence '\\s'\n",
      "C:\\Users\\bourd\\AppData\\Local\\Temp\\ipykernel_34328\\2642004816.py:4: SyntaxWarning: invalid escape sequence '\\s'\n",
      "  ruta_excel_clean = 'C:\\\\Users\\\\bourd\\source\\\\repos\\\\IncomeInference\\\\data\\\\clean\\\\UASD\\\\UASD_febrero_2024_clean.xlsx'\n"
     ]
    },
    {
     "name": "stdout",
     "output_type": "stream",
     "text": [
      "Index(['Num', 'Sexo', 'Nombre_apellido', 'Departamento', 'Funcion_o_puesto',\n",
      "       'Estado', 'Desde', 'Sueldo_bruto', 'Otros_ingresos', 'Total_ingresos',\n",
      "       'AFP', 'SFS', 'Otros_descuentos', 'Total_descuentos', 'Total_neto',\n",
      "       'Antigüedad_Años'],\n",
      "      dtype='object')\n"
     ]
    }
   ],
   "source": [
    "import pandas as pd\n",
    "\n",
    "# Ruta del archivo Excel limpio\n",
    "ruta_excel_clean = 'C:\\\\Users\\\\bourd\\source\\\\repos\\\\IncomeInference\\\\data\\\\clean\\\\UASD\\\\UASD_febrero_2024_clean.xlsx'\n",
    "df_clean = pd.read_excel(ruta_excel_clean)\n",
    "\n",
    "# Imprimir los nombres de las columnas para verificar\n",
    "print(df_clean.columns)\n"
   ]
  },
  {
   "cell_type": "code",
   "execution_count": 10,
   "metadata": {},
   "outputs": [
    {
     "name": "stdout",
     "output_type": "stream",
     "text": [
      "Diccionarios de codificación guardados en c:\\Users\\bourd\\source\\repos\\IncomeInference\\data\\clean\\UASD\\UASD_encoders.pkl\n",
      "Características seleccionadas guardadas en c:\\Users\\bourd\\source\\repos\\IncomeInference\\data\\clean\\UASD\\UASD_febrero_2024_features.xlsx\n",
      "Datos de características y etiqueta de salida guardados en c:\\Users\\bourd\\source\\repos\\IncomeInference\\data\\clean\\UASD\\UASD_febrero_2024_features.xlsx\n"
     ]
    },
    {
     "name": "stderr",
     "output_type": "stream",
     "text": [
      "C:\\Users\\bourd\\AppData\\Local\\Temp\\ipykernel_15000\\3666740203.py:57: SettingWithCopyWarning: \n",
      "A value is trying to be set on a copy of a slice from a DataFrame.\n",
      "Try using .loc[row_indexer,col_indexer] = value instead\n",
      "\n",
      "See the caveats in the documentation: https://pandas.pydata.org/pandas-docs/stable/user_guide/indexing.html#returning-a-view-versus-a-copy\n",
      "  df_features[numeric_cols] = scaler.fit_transform(df_features[numeric_cols])\n",
      "C:\\Users\\bourd\\AppData\\Local\\Temp\\ipykernel_15000\\3666740203.py:60: SettingWithCopyWarning: \n",
      "A value is trying to be set on a copy of a slice from a DataFrame.\n",
      "Try using .loc[row_indexer,col_indexer] = value instead\n",
      "\n",
      "See the caveats in the documentation: https://pandas.pydata.org/pandas-docs/stable/user_guide/indexing.html#returning-a-view-versus-a-copy\n",
      "  df_features['Sueldo_Promedio_Institucion'] = sueldo_promedio_institucion\n",
      "C:\\Users\\bourd\\AppData\\Local\\Temp\\ipykernel_15000\\3666740203.py:68: SettingWithCopyWarning: \n",
      "A value is trying to be set on a copy of a slice from a DataFrame.\n",
      "Try using .loc[row_indexer,col_indexer] = value instead\n",
      "\n",
      "See the caveats in the documentation: https://pandas.pydata.org/pandas-docs/stable/user_guide/indexing.html#returning-a-view-versus-a-copy\n",
      "  df_features['Sueldo_Bruto'] = df_clean['Sueldo_Bruto']\n"
     ]
    }
   ],
   "source": [
    "import os\n",
    "import pandas as pd\n",
    "from sklearn.preprocessing import LabelEncoder, StandardScaler\n",
    "import pickle\n",
    "\n",
    "# Ruta del archivo Excel limpio\n",
    "ruta_excel_clean = 'c:\\\\Users\\\\bourd\\\\source\\\\repos\\\\IncomeInference\\\\data\\\\clean\\\\UASD\\\\UASD_febrero_2024_clean.xlsx'\n",
    "df_clean = pd.read_excel(ruta_excel_clean)\n",
    "\n",
    "# Crear una columna de Institución\n",
    "df_clean['Institucion'] = 'UASD'\n",
    "\n",
    "# Convertir la columna 'Desde' a tipo datetime\n",
    "df_clean['Desde'] = pd.to_datetime(df_clean['Desde'], errors='coerce')\n",
    "\n",
    "# Crear nueva característica: tiempo en el trabajo en años\n",
    "df_clean['Tiempo_Trabajo_Anios'] = (pd.Timestamp('2024-06-01') - df_clean['Desde']).dt.days / 365.25\n",
    "\n",
    "# Calcular el sueldo promedio de la institución\n",
    "sueldo_promedio_institucion = df_clean['Sueldo_bruto'].mean()\n",
    "df_clean['Sueldo_Promedio_Institucion'] = sueldo_promedio_institucion\n",
    "\n",
    "# Renombrar columnas para mantener el mismo formato\n",
    "df_clean = df_clean.rename(columns={\n",
    "    'Departamento': 'Area',\n",
    "    'Genero': 'Sexo',\n",
    "    'Funcion_o_puesto': 'Cargo',\n",
    "    'Sueldo_bruto': 'Sueldo_Bruto'\n",
    "})\n",
    "\n",
    "# Seleccionar las columnas de interés\n",
    "columns_of_interest = ['Institucion', 'Area', 'Genero', 'Cargo', 'Tiempo_Trabajo_Anios', 'Sueldo_Promedio_Institucion', 'Sueldo_Bruto']\n",
    "\n",
    "# Aplicar LabelEncoder a las columnas categóricas y guardar los diccionarios de codificación\n",
    "label_encoders = {}\n",
    "mappings = {}\n",
    "categorical_columns = ['Institucion', 'Area', 'Genero', 'Cargo']\n",
    "\n",
    "for col in categorical_columns:\n",
    "    le = LabelEncoder()\n",
    "    df_clean[col] = le.fit_transform(df_clean[col])\n",
    "    label_encoders[col] = le\n",
    "    mappings[col] = dict(zip(le.classes_, le.transform(le.classes_)))\n",
    "\n",
    "# Guardar los diccionarios de codificación y mapeos\n",
    "encoders_path = 'c:\\\\Users\\\\bourd\\\\source\\\\repos\\\\IncomeInference\\\\data\\\\clean\\\\UASD\\\\UASD_encoders.pkl'\n",
    "with open(encoders_path, 'wb') as f:\n",
    "    pickle.dump({'label_encoders': label_encoders, 'mappings': mappings}, f)\n",
    "print(f\"Diccionarios de codificación guardados en {encoders_path}\")\n",
    "\n",
    "# Filtrar y seleccionar las columnas de interés\n",
    "df_features = df_clean[columns_of_interest]\n",
    "\n",
    "# Normalizar las características numéricas\n",
    "numeric_cols = ['Tiempo_Trabajo_Anios', 'Sueldo_Promedio_Institucion']\n",
    "scaler = StandardScaler()\n",
    "df_features[numeric_cols] = scaler.fit_transform(df_features[numeric_cols])\n",
    "\n",
    "# Restaurar el sueldo promedio correcto después de la normalización\n",
    "df_features['Sueldo_Promedio_Institucion'] = sueldo_promedio_institucion\n",
    "\n",
    "# Guardar las características seleccionadas en un nuevo archivo Excel\n",
    "output_features_path = 'c:\\\\Users\\\\bourd\\\\source\\\\repos\\\\IncomeInference\\\\data\\\\clean\\\\UASD\\\\UASD_febrero_2024_features.xlsx'\n",
    "df_features.to_excel(output_features_path, index=False)\n",
    "print(f\"Características seleccionadas guardadas en {output_features_path}\")\n",
    "\n",
    "# Guardar la etiqueta de salida (Sueldo_Bruto) en el mismo archivo Excel\n",
    "df_features['Sueldo_Bruto'] = df_clean['Sueldo_Bruto']\n",
    "df_features.to_excel(output_features_path, index=False)\n",
    "print(f\"Datos de características y etiqueta de salida guardados en {output_features_path}\")\n"
   ]
  }
 ],
 "metadata": {
  "kernelspec": {
   "display_name": "Python 3",
   "language": "python",
   "name": "python3"
  },
  "language_info": {
   "codemirror_mode": {
    "name": "ipython",
    "version": 3
   },
   "file_extension": ".py",
   "mimetype": "text/x-python",
   "name": "python",
   "nbconvert_exporter": "python",
   "pygments_lexer": "ipython3",
   "version": "3.12.2"
  }
 },
 "nbformat": 4,
 "nbformat_minor": 2
}
