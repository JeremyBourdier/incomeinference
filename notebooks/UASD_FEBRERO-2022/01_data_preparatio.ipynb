{
 "cells": [
  {
   "cell_type": "code",
   "execution_count": 8,
   "metadata": {},
   "outputs": [
    {
     "name": "stdout",
     "output_type": "stream",
     "text": [
      "Matplotlib version: 3.9.0\n",
      "Pandas version: 2.2.2\n",
      "Numpy version: 2.0.0\n"
     ]
    }
   ],
   "source": [
    "# Importar y configurar librerías\n",
    "import pandas as pd\n",
    "import numpy as np\n",
    "import matplotlib.pyplot as plt\n",
    "import seaborn as sns\n",
    "\n",
    "# Configuración de visualización para gráficos\n",
    "sns.set(style=\"whitegrid\")\n",
    "pd.set_option('display.max_columns', None)\n",
    "\n",
    "# Verificar las versiones de las librerías\n",
    "print(f\"Matplotlib version: {plt.matplotlib.__version__}\")\n",
    "print(f\"Pandas version: {pd.__version__}\")\n",
    "print(f\"Numpy version: {np.__version__}\")\n"
   ]
  },
  {
   "cell_type": "code",
   "execution_count": 3,
   "metadata": {},
   "outputs": [
    {
     "name": "stdout",
     "output_type": "stream",
     "text": [
      "El archivo c:\\Users\\bourd\\source\\repos\\IncomeInference\\data\\raw\\UASD_febrero_2024.xlsx existe en la ruta: c:\\Users\\bourd\\source\\repos\\IncomeInference\\data\\raw\\UASD_febrero_2024.xlsx\n",
      "Primeras filas del DataFrame:\n",
      "   PAGO DE NOMINA MONITORES CORRESPONDIENTE AL MES DE FEBRERO 2024 Unnamed: 1  \\\n",
      "0                                                NaN                     NaN   \n",
      "1                                               Num.                    SEXO   \n",
      "2                                                  1                       M   \n",
      "3                                                  2                       M   \n",
      "4                                                  3                       M   \n",
      "\n",
      "             Unnamed: 2                        Unnamed: 3        Unnamed: 4  \\\n",
      "0                   NaN                               NaN               NaN   \n",
      "1       Nombre_apellido                      Departamento  Funcion_o_puesto   \n",
      "2  José Gregorio Guzmán             ESCUELA DE MATEMATICA           Monitor   \n",
      "3  José N. Barias Mateo                 ESCUELA DE FISICA           Monitor   \n",
      "4    Miguel A. Padua M.  ESCUELA DE CIENCIAS MORFOLOGICAS           Monitor   \n",
      "\n",
      "   Unnamed: 5           Unnamed: 6    Unnamed: 7      Unnamed: 8  \\\n",
      "0         NaN                  NaN           NaN             NaN   \n",
      "1      Estado                Desde  Sueldo_bruto  Otros_ingresos   \n",
      "2  CONTRATADO  2016-08-22 00:00:00      12661.99               0   \n",
      "3  CONTRATADO  2017-01-31 00:00:00      12661.99               0   \n",
      "4  CONTRATADO  2021-09-01 00:00:00      12661.99               0   \n",
      "\n",
      "       Unnamed: 9 Unnamed: 10 Unnamed: 11       Unnamed: 12       Unnamed: 13  \\\n",
      "0             NaN         NaN         NaN               NaN               NaN   \n",
      "1  Total_ingresos         AFP         SFS  Otros_descuentos  Total_descuentos   \n",
      "2        12661.99       363.4      384.92                 2            750.32   \n",
      "3        12661.99       363.4      384.92                 2            750.32   \n",
      "4        12661.99       363.4      384.92                 2            750.32   \n",
      "\n",
      "  Unnamed: 14  \n",
      "0         NaN  \n",
      "1  Total_neto  \n",
      "2    11911.67  \n",
      "3    11911.67  \n",
      "4    11911.67  \n",
      "Nombres de las columnas:\n",
      " Index(['PAGO DE NOMINA MONITORES CORRESPONDIENTE AL MES DE FEBRERO 2024',\n",
      "       'Unnamed: 1', 'Unnamed: 2', 'Unnamed: 3', 'Unnamed: 4', 'Unnamed: 5',\n",
      "       'Unnamed: 6', 'Unnamed: 7', 'Unnamed: 8', 'Unnamed: 9', 'Unnamed: 10',\n",
      "       'Unnamed: 11', 'Unnamed: 12', 'Unnamed: 13', 'Unnamed: 14'],\n",
      "      dtype='object')\n"
     ]
    }
   ],
   "source": [
    "import os\n",
    "import pandas as pd\n",
    "\n",
    "# Ruta del archivo Excel\n",
    "ruta_excel = 'c:\\\\Users\\\\bourd\\\\source\\\\repos\\\\IncomeInference\\\\data\\\\raw\\\\UASD_febrero_2024.xlsx'\n",
    "\n",
    "# Verificar si el archivo existe\n",
    "if os.path.exists(ruta_excel):\n",
    "    print(f\"El archivo {ruta_excel} existe en la ruta: {ruta_excel}\")\n",
    "    # Leer el archivo Excel, saltando las primeras filas innecesarias\n",
    "    df = pd.read_excel(ruta_excel, skiprows=5)\n",
    "    # Mostrar las primeras filas para verificar los nombres de las columnas\n",
    "    print(\"Primeras filas del DataFrame:\\n\", df.head())\n",
    "    # Mostrar los nombres de las columnas\n",
    "    print(\"Nombres de las columnas:\\n\", df.columns)\n",
    "else:\n",
    "    print(f\"El archivo {ruta_excel} no se encontró en la ruta: {ruta_excel}\")\n"
   ]
  },
  {
   "cell_type": "code",
   "execution_count": 14,
   "metadata": {},
   "outputs": [
    {
     "name": "stdout",
     "output_type": "stream",
     "text": [
      "El archivo c:\\Users\\bourd\\source\\repos\\IncomeInference\\data\\raw\\UASD-FEBRERO-2024.xlsx existe en la ruta: c:\\Users\\bourd\\source\\repos\\IncomeInference\\data\\raw\\UASD-FEBRERO-2024.xlsx\n",
      "Datos guardados en c:\\Users\\bourd\\source\\repos\\IncomeInference\\data\\clean\\UASD\\UASD_febrero_2024_clean.xlsx\n"
     ]
    },
    {
     "name": "stderr",
     "output_type": "stream",
     "text": [
      "C:\\Users\\bourd\\AppData\\Local\\Temp\\ipykernel_33352\\2816745711.py:25: UserWarning: Could not infer format, so each element will be parsed individually, falling back to `dateutil`. To ensure parsing is consistent and as-expected, please specify a format.\n",
      "  df['Desde'] = pd.to_datetime(df['Desde'], errors='coerce')\n"
     ]
    }
   ],
   "source": [
    "import os\n",
    "import pandas as pd\n",
    "\n",
    "# Ruta del archivo Excel\n",
    "ruta_excel = 'c:\\\\Users\\\\bourd\\\\source\\\\repos\\\\IncomeInference\\\\data\\\\raw\\\\UASD-FEBRERO-2024.xlsx'\n",
    "\n",
    "# Verificar si el archivo existe\n",
    "if os.path.exists(ruta_excel):\n",
    "    print(f\"El archivo {ruta_excel} existe en la ruta: {ruta_excel}\")\n",
    "    \n",
    "    # Leer el archivo Excel, saltando las primeras filas innecesarias\n",
    "    df = pd.read_excel(ruta_excel, skiprows=2)\n",
    "    \n",
    "    # Renombrar columnas de acuerdo a la estructura identificada\n",
    "    df.columns = [\n",
    "        'Num', 'Sexo', 'Nombre_apellido', 'Departamento', 'Funcion_o_puesto',\n",
    "        'Estado', 'Desde', 'Sueldo_bruto', 'Otros_ingresos', 'Total_ingresos',\n",
    "        'AFP', 'SFS', 'Otros_descuentos', 'Total_descuentos', 'Total_neto'\n",
    "    ]\n",
    "    \n",
    "    # Eliminar filas vacías o irrelevantes si es necesario (esto puede depender de la estructura específica)\n",
    "    df = df.dropna(subset=['Nombre_apellido'])\n",
    "    \n",
    "    # Convertir la columna 'Desde' a tipo datetime\n",
    "    df['Desde'] = pd.to_datetime(df['Desde'], errors='coerce')\n",
    "\n",
    "    # Crear nueva característica: antigüedad en años\n",
    "    df['Antigüedad_Años'] = (pd.Timestamp('now') - df['Desde']).dt.days / 365.25\n",
    "\n",
    "    # Convertir columnas numéricas a tipo float\n",
    "    cols_to_convert = ['Sueldo_bruto', 'Otros_ingresos', 'Total_ingresos', 'AFP', 'SFS', 'Otros_descuentos', 'Total_descuentos', 'Total_neto']\n",
    "    df[cols_to_convert] = df[cols_to_convert].apply(pd.to_numeric, errors='coerce')\n",
    "    \n",
    "    # Eliminar filas con valores no numéricos\n",
    "    df = df.dropna(subset=cols_to_convert)\n",
    "\n",
    "    # Obtener el directorio actual\n",
    "    current_dir = os.getcwd()\n",
    "    \n",
    "    # Guardar en un archivo Excel limpio para revisión\n",
    "    output_path = os.path.abspath(os.path.join(current_dir, '../../data/clean/UASD/UASD_febrero_2024_clean.xlsx'))\n",
    "    os.makedirs(os.path.dirname(output_path), exist_ok=True)\n",
    "    df.to_excel(output_path, index=False)\n",
    "    print(f\"Datos guardados en {output_path}\")\n",
    "else:\n",
    "    print(f\"El archivo {ruta_excel} no se encontró en la ruta: {ruta_excel}\")\n"
   ]
  }
 ],
 "metadata": {
  "kernelspec": {
   "display_name": "Python 3",
   "language": "python",
   "name": "python3"
  },
  "language_info": {
   "codemirror_mode": {
    "name": "ipython",
    "version": 3
   },
   "file_extension": ".py",
   "mimetype": "text/x-python",
   "name": "python",
   "nbconvert_exporter": "python",
   "pygments_lexer": "ipython3",
   "version": "3.12.2"
  }
 },
 "nbformat": 4,
 "nbformat_minor": 2
}
